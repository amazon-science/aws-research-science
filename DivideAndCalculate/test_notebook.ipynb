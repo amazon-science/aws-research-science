{
 "cells": [
  {
   "cell_type": "code",
   "execution_count": 4,
   "metadata": {},
   "outputs": [
    {
     "name": "stdout",
     "output_type": "stream",
     "text": [
      "Input: <api> [Calculator(18 + 12 * 3)] </api>\n",
      "Result: {'reward': 1.0, 'detected_expression': '18 + 12 * 3', 'message': 'Valid API call pattern detected'}\n",
      "\n",
      "Input: Calculator(18 + 12 * 3)\n",
      "Result: {'reward': 0.0, 'detected_expression': None, 'message': 'Invalid or missing API call pattern'}\n",
      "\n",
      "Input: <api> Calculator(18 + 12 * 3) </api>\n",
      "Result: {'reward': 0.0, 'detected_expression': None, 'message': 'Invalid or missing API call pattern'}\n",
      "\n",
      "Input: Random text\n",
      "Result: {'reward': 0.0, 'detected_expression': None, 'message': 'Invalid or missing API call pattern'}\n",
      "\n",
      "Input: \n",
      "    <think>\n",
      "I have to solve this expression \"18 + 12 x 3\". let me use the calculator to solve this expression\n",
      "\n",
      "<api> [Calculator(18 + 2 * 3)] </api> -> 54\n",
      "\n",
      "I got 54 as an answer from the Calculator. So the answer is 54\n",
      "\n",
      "<answer>\n",
      "54\n",
      "<answer>\n",
      "    \n",
      "Result: {'reward': 1.0, 'detected_expression': '18 + 2 * 3', 'message': 'Valid API call pattern detected'}\n",
      "\n"
     ]
    }
   ],
   "source": [
    "\n",
    "import re\n",
    "\n",
    "def calculate_reward(text):\n",
    "    # Pattern to match <api> [Calculator(...)] </api>\n",
    "    api_pattern = r'<api>\\s*\\[Calculator\\((.*?)\\)\\]\\s*</api>'\n",
    "    \n",
    "    # Check if the pattern exists\n",
    "    match = re.search(api_pattern, text)\n",
    "    \n",
    "    if match:\n",
    "        # If the complete API pattern is found, return a positive reward\n",
    "        return {\n",
    "            'reward': 1.0,\n",
    "            'detected_expression': match.group(1),  # This will capture the expression inside Calculator()\n",
    "            'message': 'Valid API call pattern detected'\n",
    "        }\n",
    "    else:\n",
    "        # If the pattern is not found or incomplete, return no reward\n",
    "        return {\n",
    "            'reward': 0.0,\n",
    "            'detected_expression': None,\n",
    "            'message': 'Invalid or missing API call pattern'\n",
    "        }\n",
    "\n",
    "# Test cases\n",
    "test_cases = [\n",
    "    '<api> [Calculator(18 + 12 * 3)] </api>',  # Valid case\n",
    "    'Calculator(18 + 12 * 3)',                  # Invalid case (missing api tags)\n",
    "    '<api> Calculator(18 + 12 * 3) </api>',     # Invalid case (missing square brackets)\n",
    "    'Random text',\n",
    "    \"\"\"\n",
    "    <think>\n",
    "I have to solve this expression \"18 + 12 x 3\". let me use the calculator to solve this expression\n",
    "\n",
    "<api> [Calculator(18 + 2 * 3)] </api> -> 54\n",
    "\n",
    "I got 54 as an answer from the Calculator. So the answer is 54\n",
    "\n",
    "<answer>\n",
    "54\n",
    "<answer>\n",
    "    \"\"\"\n",
    "                                  # Invalid case (no pattern)\n",
    "]\n",
    "\n",
    "# Test the function\n",
    "for test in test_cases:\n",
    "    result = calculate_reward(test)\n",
    "    print(f\"Input: {test}\")\n",
    "    print(f\"Result: {result}\\n\")\n"
   ]
  },
  {
   "cell_type": "code",
   "execution_count": 19,
   "metadata": {},
   "outputs": [],
   "source": [
    "import pytest\n",
    "import re\n",
    "\n",
    "def strict_format_reward_func(completions, **kwargs) -> list[float]:\n",
    "    \"\"\"Reward function that checks if the completion has a specific format.\"\"\"\n",
    "    pattern = r'<think>[\\s\\S]*?</think>\\s*<answer>\\d+</answer>'\n",
    "    responses = [completion[0][\"content\"] for completion in completions]\n",
    "    matches = [re.match(pattern, r) for r in responses]\n",
    "    return [0.5 if match else 0.0 for match in matches]\n"
   ]
  },
  {
   "cell_type": "code",
   "execution_count": 22,
   "metadata": {},
   "outputs": [
    {
     "name": "stdout",
     "output_type": "stream",
     "text": [
      "[0.0]\n"
     ]
    }
   ],
   "source": [
    " valid_completion = [[{\n",
    "        \"content\": \"\"\"<think>\n",
    "I have to solve this expression \"18 + 12 x 3\". let me use the calculator to solve this expression\n",
    "\n",
    "<api>[Calculator(18 + 12 * 3)]</api> -> 54\n",
    "\n",
    "I got 54 as an answer from the Calculator. So the answer is 54\n",
    "\n",
    "</think>\n",
    "<api>[Calculator(18 + 12 * 3)]</api> -> 54\n",
    "<answer>54</answer>\n",
    "\n",
    "        \"\"\"\n",
    "    }]]\n",
    "x = strict_format_reward_func(valid_completion)\n",
    "print(x)"
   ]
  },
  {
   "cell_type": "code",
   "execution_count": 23,
   "metadata": {},
   "outputs": [
    {
     "name": "stdout",
     "output_type": "stream",
     "text": [
      "Text 1 reward: 1.0\n",
      "Text 2 reward: 1.0\n",
      "Text 3 reward: 1.0\n"
     ]
    }
   ],
   "source": [
    "import re\n",
    "import numexpr as ne\n",
    "\n",
    "def validate_math_expression(text):\n",
    "    \"\"\"\n",
    "    Validates mathematical expressions found within API tags using numexpr.\n",
    "    \n",
    "    Args:\n",
    "        text (str): The text containing API tags with math expressions\n",
    "        \n",
    "    Returns:\n",
    "        float: 1.0 if all expressions are valid, 0.0 if any expression is invalid\n",
    "    \"\"\"\n",
    "    # Find all expressions within API tags\n",
    "    api_pattern = r'\\<api\\>\\s*\\[Calculator\\((.*?)\\)\\].*?\\<\\/api\\>'\n",
    "    expressions = re.findall(api_pattern, text, re.DOTALL)\n",
    "    \n",
    "    if not expressions:\n",
    "        return 0.0  # No expressions found\n",
    "    \n",
    "    try:\n",
    "        # Validate each expression\n",
    "        for expr in expressions:\n",
    "            # Clean the expression\n",
    "            cleaned_expr = expr.strip()\n",
    "            \n",
    "            # Replace common mathematical words with symbols\n",
    "            replacements = {\n",
    "                'x': '*',\n",
    "                '×': '*',\n",
    "                '÷': '/',\n",
    "            }\n",
    "            for old, new in replacements.items():\n",
    "                cleaned_expr = cleaned_expr.replace(old, new)\n",
    "            \n",
    "            # Try to evaluate the expression using numexpr\n",
    "            # This will raise an exception if the expression is invalid\n",
    "            ne.evaluate(cleaned_expr)\n",
    "        \n",
    "        return 1.0  # All expressions are valid\n",
    "        \n",
    "    except Exception as e:\n",
    "        return 0.0  # Invalid expression found\n",
    "\n",
    "# Example usage\n",
    "def test_validate_math_expression():\n",
    "    # Valid expression\n",
    "    text1 = \"\"\"\n",
    "    <think>\n",
    "    Let me calculate this.\n",
    "    <api>[Calculator(18 + 12 * 3)]</api> -> 54\n",
    "    </think>\n",
    "    \"\"\"\n",
    "    \n",
    "    # Invalid expression\n",
    "    text2 = \"\"\"\n",
    "    <think>\n",
    "    Let me calculate this.\n",
    "    <api>[Calculator(18 ++ 12 * 3)]</api> -> 54\n",
    "    </think>\n",
    "    \"\"\"\n",
    "    \n",
    "    # Multiple expressions\n",
    "    text3 = \"\"\"\n",
    "    <think>\n",
    "    Let me break this down.\n",
    "    <api>[Calculator(10 + 5)]</api> -> 15\n",
    "    Then,\n",
    "    <api>[Calculator(15 * 2)]</api> -> 30\n",
    "    </think>\n",
    "    \"\"\"\n",
    "    \n",
    "    print(f\"Text 1 reward: {validate_math_expression(text1)}\")  # Should print 1.0\n",
    "    print(f\"Text 2 reward: {validate_math_expression(text2)}\")  # Should print 0.0\n",
    "    print(f\"Text 3 reward: {validate_math_expression(text3)}\")  # Should print 1.0\n",
    "\n",
    "if __name__ == \"__main__\":\n",
    "    test_validate_math_expression()\n"
   ]
  },
  {
   "cell_type": "code",
   "execution_count": 32,
   "metadata": {},
   "outputs": [],
   "source": [
    "def validate_math_expression_reward(completions, **kwargs) -> list[float]:\n",
    "    \"\"\"Reward function that validates if the math expression in API tags is accepted by numexpr.\"\"\"\n",
    "    from utils import extract_last_calculator_expression, calculate_safe\n",
    "    \n",
    "    responses = [completion[0][\"content\"] for completion in completions]\n",
    "    rewards = []\n",
    "    \n",
    "    for response in responses:\n",
    "        # Extract the expression from Calculator API tags\n",
    "        expression = extract_last_calculator_expression(response)\n",
    "        print(expression)\n",
    "        \n",
    "        if expression is None:\n",
    "            rewards.append(0.0)\n",
    "            continue\n",
    "            \n",
    "        # Check if the expression is valid using numexpr\n",
    "        try:\n",
    "            calculate_safe(expression)\n",
    "            rewards.append(1.0)  # Expression is valid\n",
    "        except Exception as e:\n",
    "            rewards.append(0.0)  # Expression is invalid\n",
    "            \n",
    "    return rewards"
   ]
  },
  {
   "cell_type": "code",
   "execution_count": 37,
   "metadata": {},
   "outputs": [],
   "source": [
    "def test_validate_math_expression_reward():\n",
    "    # Valid expression\n",
    "    text1 = \"\"\"\n",
    "    <think>\n",
    "    Let me calculate this.\n",
    "    <api>[Calculator(18 + 12 * 3)]</api> -> 54\n",
    "    </think>\n",
    "    \"\"\"\n",
    "    \n",
    "    # Invalid expression\n",
    "    text2 = \"\"\"\n",
    " \n",
    "    \"\"\"\n",
    "    \n",
    "    # Multiple expressions\n",
    "    text3 = \"\"\"\n",
    "    <think>\n",
    "    Let me break this down.\n",
    "    <api>[Calculator(10 + 5)]</api> -> 15\n",
    "    Then,\n",
    "    <api>[Calculator(15 * 2)]</api> -> 30\n",
    "    </think>\n",
    "    \"\"\"\n",
    "    \n",
    "    print(f\"Text 1 reward: {validate_math_expression_reward(text1)}\")  # Should print 1.0\n",
    "    print(f\"Text 2 reward: {validate_math_expression_reward(text2)}\")  # Should print 0.0\n",
    "    print(f\"Text 3 reward: {validate_math_expression_reward(text3)}\")  # Should print 1.0\n"
   ]
  },
  {
   "cell_type": "code",
   "execution_count": 38,
   "metadata": {},
   "outputs": [
    {
     "name": "stdout",
     "output_type": "stream",
     "text": [
      "Text 1 reward: 1.0\n",
      "Text 2 reward: 1.0\n",
      "Text 3 reward: 1.0\n"
     ]
    }
   ],
   "source": [
    "test_validate_math_expression()"
   ]
  },
  {
   "cell_type": "code",
   "execution_count": 41,
   "metadata": {},
   "outputs": [
    {
     "name": "stdout",
     "output_type": "stream",
     "text": [
      "3**3\n",
      "27\n",
      "27\n",
      "27\n"
     ]
    },
    {
     "data": {
      "text/plain": [
       "[1.0]"
      ]
     },
     "execution_count": 41,
     "metadata": {},
     "output_type": "execute_result"
    }
   ],
   "source": [
    " valid_completion = [[{\n",
    "        \"content\": \"\"\"<think>\n",
    "I have to solve this expression \"18 + 12 x 3\". let me use the calculator to solve this expression\n",
    "\n",
    "<api>[Calculator(18 + 12 * 3)]</api> -> 54\n",
    "\n",
    "I got 54 as an answer from the Calculator. So the answer is 54\n",
    "\n",
    "</think>\n",
    "<api>[Calculator(3**3)]</api> -> 54\n",
    "<answer>54</answer>\n",
    "\n",
    "        \"\"\"\n",
    "    }]]\n",
    "x = validate_math_expression_reward(valid_completion)\n",
    "x"
   ]
  },
  {
   "cell_type": "code",
   "execution_count": 54,
   "metadata": {},
   "outputs": [
    {
     "name": "stdout",
     "output_type": "stream",
     "text": [
      "3.0\n"
     ]
    },
    {
     "data": {
      "text/plain": [
       "3.0"
      ]
     },
     "execution_count": 54,
     "metadata": {},
     "output_type": "execute_result"
    }
   ],
   "source": [
    "from utils import calculate_safe\n",
    "calculate_safe(\"((3*3)**(1/2))\")"
   ]
  },
  {
   "cell_type": "code",
   "execution_count": 57,
   "metadata": {},
   "outputs": [],
   "source": [
    "def extract_answer(output_text):\n",
    "    \"\"\"Extract the numeric answer from the model output.\"\"\"\n",
    "    # Look for an answer tag if it exists\n",
    "    answer_match = re.search(r'<answer>(.*?)</answer>', output_text, re.DOTALL)\n",
    "    if answer_match:\n",
    "        # Extract numeric value from the answer\n",
    "        answer_text = answer_match.group(1).strip()\n",
    "        numeric_match = re.search(r'\\d+\\.?\\d*', answer_text)\n",
    "        if numeric_match:\n",
    "            return numeric_match.group(0)"
   ]
  },
  {
   "cell_type": "code",
   "execution_count": 63,
   "metadata": {},
   "outputs": [],
   "source": [
    "def numerical_reward_func(prompts, completions, answer, **kwargs) -> list[float]:\n",
    "    \"\"\"Reward function that compares numerical answers, allowing for different formats.\n",
    "    \n",
    "    Args:\n",
    "        prompts: List of conversation histories\n",
    "        completions: List of model completions\n",
    "        answer: List of correct answers\n",
    "        **kwargs: Additional arguments\n",
    "        \n",
    "    Returns:\n",
    "        List of rewards (1.0 for correct numerical answer, 0.0 otherwise)\n",
    "    \"\"\"\n",
    "    #from evaluate_gsm8k import extract_answer\n",
    "    \n",
    "    responses = [completion[0]['content'] for completion in completions]\n",
    "    extracted_responses = [extract_answer(r) for r in responses]\n",
    "    correct_answers = [extract_answer(str(a)) for a in answer]\n",
    "\n",
    "    print(extracted_responses, correct_answers)\n",
    "    \n",
    "    # Compare numerical values with conversion to float for proper comparison\n",
    "    rewards = []\n",
    "    for resp, ans in zip(extracted_responses, correct_answers):\n",
    "        if resp is not None and ans is not None:\n",
    "            try:\n",
    "                resp_num = float(resp)\n",
    "                ans_num = float(ans)\n",
    "                print(resp_num, ans_num)\n",
    "                rewards.append(1.0 if resp_num == ans_num else 0.0)\n",
    "            except ValueError:\n",
    "                rewards.append(0.0)\n",
    "        else:\n",
    "            rewards.append(0.0)\n",
    "    \n",
    "    return rewards\n"
   ]
  },
  {
   "cell_type": "code",
   "execution_count": 84,
   "metadata": {},
   "outputs": [],
   "source": [
    "def extract_xml_answer(text: str) -> str:\n",
    "    answer = text.split(\"<answer>\")[-1]\n",
    "    answer = answer.split(\"</answer>\")[0]\n",
    "    return answer.strip()"
   ]
  },
  {
   "cell_type": "code",
   "execution_count": 85,
   "metadata": {},
   "outputs": [],
   "source": [
    "def tool_usage_reward(completions, prompts, answer, **kwargs):\n",
    "        \"\"\"Reward function that evaluates tool usage patterns.\n",
    "        \n",
    "        Rewards proper tool usage and penalizes excessive tool calls compared to golden response.\n",
    "        \n",
    "        Args:\n",
    "            completions: List of model completions\n",
    "            solution: List of ground truth solutions containing tool usage\n",
    "        \n",
    "        Returns:\n",
    "            List of rewards, one per completion\n",
    "        \"\"\"\n",
    "        responses = [completion[0]['content'] for completion in completions]\n",
    "        #q = prompts[0][-1]['content']\n",
    "        extracted_responses = [extract_xml_answer(r) for r in responses]\n",
    "        print('-'*20, f\"Question:\", f\"\\nAnswer:\\n{answer[0]}\", f\"\\nResponse:\\n{responses[0]}\", f\"\\nExtracted:\\n{extracted_responses[0]}\")\n",
    "        return [2.0 if r.count(\"[Calculator(\") == a.count(\"[Calculator(\") else 1.0 if (r.count(\"[Calculator(\") > a.count(\"[Calculator(\") or r.count(\"[Calculator(\") < a.count(\"[Calculator(\")) and r.count(\"[Calculator(\") != 0 else 0.0 for r, a in zip(extracted_responses, answer)]\n",
    "\n"
   ]
  },
  {
   "cell_type": "code",
   "execution_count": 86,
   "metadata": {},
   "outputs": [
    {
     "name": "stdout",
     "output_type": "stream",
     "text": [
      "-------------------- Question: \n",
      "Answer:\n",
      "<think>\n",
      "On Monday, Mack writes 60 / 30 = <api>[Calculator(60/30)]</api> 2 pages\n",
      "On Tuesday, Mack writes 45 / 15 = <api>[Calculator(45/15)]</api> 3 pages\n",
      "In total, from Monday to Wednesday, Mack writes <api>[Calculator(2 + 3 + 5)]</api> 10 pages\n",
      "</think>  \n",
      "Response:\n",
      " <think>\n",
      "Let's calculate the pages Mack wrote each day:\n",
      "\n",
      "**Monday:**\n",
      "- He writes for 60 minutes at a rate of 1 page every 30 minutes.\n",
      "- The number of pages he writes on Monday = 60 minutes / 30 minutes per page = 2 pages.\n",
      "\n",
      "**Tuesday:**\n",
      "- He writes for 45 minutes at a rate of 1 page every 15 minutes.\n",
      "- The number of pages he writes on Tuesday = 45 minutes / 15 minutes per page = 3 pages.\n",
      "\n",
      "**Wednesday:**\n",
      "- He writes 5 pages in his journal.\n",
      "\n",
      "Now, we sum up the pages written over the three days:\n",
      "- Total pages = Pages on Monday + Pages on Tuesday + Pages on Wednesday = 2 + 3 + 5 = 10 pages\n",
      "\n",
      "<api> [Calculator(2 + 3 + 5)] </api> -> 10\n",
      "\n",
      "The total number of pages Mack writes from Monday to Wednesday is 10 pages.\n",
      "</think>\n",
      "\n",
      "<answer>\n",
      "10\n",
      "</answer> \n",
      "     \n",
      "Extracted:\n",
      "10\n",
      "Reward: 0.0\n"
     ]
    }
   ],
   "source": [
    "\"\"\"Example showing how to use the numerical reward function.\"\"\"\n",
    "\n",
    "#from rewards import numerical_reward_func\n",
    "\n",
    "# Example question\n",
    "question = \"On Monday, Mack writes in his journal for 60 minutes at a rate of 1 page every 30 minutes. On Tuesday, Mack writes in his journal for 45 minutes at a rate of 1 page every 15 minutes. On Wednesday, Mack writes 5 pages in his journal. How many pages total does Mack write in his journal from Monday to Wednesday? \"\n",
    "\n",
    "# Example completion (model's response)\n",
    "completion = [[{\"content\": \"\"\" <think>\n",
    "Let's calculate the pages Mack wrote each day:\n",
    "\n",
    "**Monday:**\n",
    "- He writes for 60 minutes at a rate of 1 page every 30 minutes.\n",
    "- The number of pages he writes on Monday = 60 minutes / 30 minutes per page = 2 pages.\n",
    "\n",
    "**Tuesday:**\n",
    "- He writes for 45 minutes at a rate of 1 page every 15 minutes.\n",
    "- The number of pages he writes on Tuesday = 45 minutes / 15 minutes per page = 3 pages.\n",
    "\n",
    "**Wednesday:**\n",
    "- He writes 5 pages in his journal.\n",
    "\n",
    "Now, we sum up the pages written over the three days:\n",
    "- Total pages = Pages on Monday + Pages on Tuesday + Pages on Wednesday = 2 + 3 + 5 = 10 pages\n",
    "\n",
    "<api> [Calculator(2 + 3 + 5)] </api> -> 10\n",
    "\n",
    "The total number of pages Mack writes from Monday to Wednesday is 10 pages.\n",
    "</think>\n",
    "\n",
    "<answer>\n",
    "10\n",
    "</answer> \n",
    "    \"\"\" }]]\n",
    "\n",
    "# Example correct answer\n",
    "answer = \"\"\"<think>\n",
    "On Monday, Mack writes 60 / 30 = <api>[Calculator(60/30)]</api> 2 pages\n",
    "On Tuesday, Mack writes 45 / 15 = <api>[Calculator(45/15)]</api> 3 pages\n",
    "In total, from Monday to Wednesday, Mack writes <api>[Calculator(2 + 3 + 5)]</api> 10 pages\n",
    "</think> \"\"\"\n",
    "\n",
    "# Calculate reward\n",
    "rewards = tool_usage_reward(completion, [question], [answer])\n",
    "\n",
    "print(f\"Reward: {rewards[0]}\")  # Should print 1.0 if model's answer matches the correct answer"
   ]
  },
  {
   "cell_type": "code",
   "execution_count": 1,
   "metadata": {},
   "outputs": [],
   "source": [
    "def extract_answer(text):\n",
    "    # Pattern to match the final answer (usually after \"The answer is\" or similar phrases)\n",
    "    patterns = [\n",
    "        r\"The answer is\\s*(-?\\d+(?:\\.\\d+)?)\",\n",
    "        r\"The final answer is\\s*(-?\\d+(?:\\.\\d+)?)\",\n",
    "        r\"The result is\\s*(-?\\d+(?:\\.\\d+)?)\",\n",
    "        r\"equals\\s*(-?\\d+(?:\\.\\d+)?)\",\n",
    "        r\"=\\s*(-?\\d+(?:\\.\\d+)?)\",\n",
    "        r\"(-?\\d+(?:\\.\\d+)?)\\s*\\$\",  # If the answer is just at the end\n",
    "        r\"####\\s*(-?\\d+(?:\\.\\d+)?)\"  # New pattern to match \"#### number\" format\n",
    "    ]\n",
    "    \n",
    "    for pattern in patterns:\n",
    "        matches = re.search(pattern, text)\n",
    "        if matches:\n",
    "            return float(matches.group(1))\n",
    "    \n",
    "    # If no patterns match, try to find any number in the last line\n",
    "    lines = text.strip().split(\"\\n\")\n",
    "    if lines:\n",
    "        last_line = lines[-1]\n",
    "        numbers = re.findall(r\"(-?\\d+(?:\\.\\d+)?)\", last_line)\n",
    "        if numbers:\n",
    "            return float(numbers[-1])\n",
    "    \n",
    "    return None\n"
   ]
  },
  {
   "cell_type": "code",
   "execution_count": 6,
   "metadata": {},
   "outputs": [],
   "source": [
    "text = \"\"\"\n",
    "\"Natalia sold 48/2 = <<48/2=24>>24 clips in May.\n",
    "Natalia sold 48+24 = <<48+24=72>>72 clips altogether in April and May.\n",
    "#### 72\"\n",
    "\n",
    "\"\"\""
   ]
  },
  {
   "cell_type": "code",
   "execution_count": 7,
   "metadata": {},
   "outputs": [
    {
     "data": {
      "text/plain": [
       "24.0"
      ]
     },
     "execution_count": 7,
     "metadata": {},
     "output_type": "execute_result"
    }
   ],
   "source": [
    "import re\n",
    "extract_answer(text)"
   ]
  },
  {
   "cell_type": "code",
   "execution_count": 1,
   "metadata": {},
   "outputs": [
    {
     "name": "stdout",
     "output_type": "stream",
     "text": [
      "First answer: 72\n",
      "Second answer: 72\n"
     ]
    }
   ],
   "source": [
    "def extract_final_answer(text):\n",
    "    # Method 1: Look for answer after '####' marker\n",
    "    if '####' in text:\n",
    "        parts = text.split('####')\n",
    "        if len(parts) > 1:\n",
    "            return parts[1].strip()\n",
    "    \n",
    "    # Method 2: Look for boxed answer format\n",
    "    if r'\\boxed{' in text:\n",
    "        import re\n",
    "        match = re.search(r'\\\\boxed\\{(.*?)\\}', text)\n",
    "        if match:\n",
    "            return match.group(1).strip()\n",
    "    \n",
    "    # Method 3: Look for \"final answer is:\" pattern\n",
    "    if \"final answer is:\" in text.lower():\n",
    "        import re\n",
    "        match = re.search(r'final answer is:?\\s*\\\\$?\\\\?boxed\\{?(.*?)\\}?\\\\$?', text.lower())\n",
    "        if match:\n",
    "            return match.group(1).strip()\n",
    "    \n",
    "    return None\n",
    "\n",
    "# Example usage\n",
    "answer1 = \"Natalia sold 48/2 = <<48/2=24>>24 clips in May.Natalia sold 48+24 = <<48+24=72>>72 clips altogether in April and May.#### 72\"\n",
    "answer2 = \"## Step 1: Calculate the number of clips sold in April.Natalia sold 48 clips in April.## Step 2: Calculate the number of clips sold in May.She sold half as many clips in May as she did in April, so she sold 48 / 2 = 24 clips in May.## Step 3: Add the number of clips sold in April and May to find the total number of clips sold.Total clips sold = clips sold in April + clips sold in May = 48 + 24 = 72.The final answer is: \\$\\\\boxed{72}\\$\"\n",
    "\n",
    "print(\"First answer:\", extract_final_answer(answer1))  # Should output: 72\n",
    "print(\"Second answer:\", extract_final_answer(answer2))  # Should output: 72"
   ]
  },
  {
   "cell_type": "code",
   "execution_count": 1,
   "metadata": {},
   "outputs": [],
   "source": [
    "import re\n",
    "def strict_format_reward_func(completions, **kwargs) -> list[float]:\n",
    "    \"\"\"Reward function that checks if the completion has a specific format.\"\"\"\n",
    "    #pattern = r'<think>.*?</think>\\s*<answer>\\d+(\\.\\d+)?</answer>'\n",
    "    pattern= r'<think>[\\s\\S]*?</think>\\s*<answer>[0-9.]+</answer>'\n",
    "    responses = [completion[\"content\"] for completion in completions]\n",
    "    matches = [re.match(pattern, r) for r in responses]\n",
    "    return [2.5 if match else 0.0 for match in matches]\n",
    "\n"
   ]
  },
  {
   "cell_type": "code",
   "execution_count": 2,
   "metadata": {},
   "outputs": [],
   "source": [
    "prompt = [{\"content\": \"\"\"<think> First, I need to calculate the price after the 15% discount. Discount amount = \\$80 × 0.15 <api>[Calculator(80 * 0.15)]</api> -> 12 Discounted price = \\$80 - \\$12 <api>[Calculator(80 - 12)]</api> -> 68\n",
    "Now I need to add the 8% sales tax to this discounted price. Tax amount = $68 × 0.08 <api>[Calculator(68 * 0.08)]</api> -> 5.44 Final price = $68 + $5.44 <api>[Calculator(68 + 5.44)]</api> -> 73.44\n",
    "So the final price is $73.44 </think>\n",
    "<answer>73.44</answer>\"\"\"},\n",
    "{\"content\": \"\"\"<think> First, I need to calculate the price after the 15% discount. Discount amount = \\$80 × 0.15 <api>[Calculator(80 * 0.15)]</api> -> 12 Discounted price = \\$80 - \\$12 <api>[Calculator(80 - 12)]</api> -> 68\n",
    "Now I need to add the 8% sales tax to this discounted price. Tax amount = $68 × 0.08 <api>[Calculator(68 * 0.08)]</api> -> 5.44 Final price = $68 + $5.44 <api>[Calculator(68 + 5.44)]</api> -> 73.44\n",
    "So the final price is $73.44 </think>\n",
    "<answer>73.44</answer>\"\"\"}]"
   ]
  },
  {
   "cell_type": "code",
   "execution_count": 3,
   "metadata": {},
   "outputs": [
    {
     "data": {
      "text/plain": [
       "'<think> First, I need to calculate the price after the 15% discount. Discount amount = \\\\$80 × 0.15 <api>[Calculator(80 * 0.15)]</api> -> 12 Discounted price = \\\\$80 - \\\\$12 <api>[Calculator(80 - 12)]</api> -> 68\\nNow I need to add the 8% sales tax to this discounted price. Tax amount = $68 × 0.08 <api>[Calculator(68 * 0.08)]</api> -> 5.44 Final price = $68 + $5.44 <api>[Calculator(68 + 5.44)]</api> -> 73.44\\nSo the final price is $73.44 </think>\\n<answer>73.44</answer>'"
      ]
     },
     "execution_count": 3,
     "metadata": {},
     "output_type": "execute_result"
    }
   ],
   "source": [
    "prompt[1][\"content\"]"
   ]
  },
  {
   "cell_type": "code",
   "execution_count": 4,
   "metadata": {},
   "outputs": [
    {
     "data": {
      "text/plain": [
       "[2.5, 2.5]"
      ]
     },
     "execution_count": 4,
     "metadata": {},
     "output_type": "execute_result"
    }
   ],
   "source": [
    "strict_format_reward_func(prompt)"
   ]
  },
  {
   "cell_type": "code",
   "execution_count": null,
   "metadata": {},
   "outputs": [],
   "source": []
  }
 ],
 "metadata": {
  "kernelspec": {
   "display_name": "base",
   "language": "python",
   "name": "python3"
  },
  "language_info": {
   "codemirror_mode": {
    "name": "ipython",
    "version": 3
   },
   "file_extension": ".py",
   "mimetype": "text/x-python",
   "name": "python",
   "nbconvert_exporter": "python",
   "pygments_lexer": "ipython3",
   "version": "3.11.10"
  }
 },
 "nbformat": 4,
 "nbformat_minor": 2
}
