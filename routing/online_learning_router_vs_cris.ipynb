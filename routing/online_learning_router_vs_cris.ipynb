{
 "cells": [
  {
   "cell_type": "markdown",
   "id": "d91fa28c-e483-4885-bfd0-c899f8e4ca95",
   "metadata": {},
   "source": [
    "# Customized routing based on random and Thomson sampling across multiple regions on Amazon Bedrock\n",
    "\n",
    "This section of the notebook implements a system to optimize API call latency across multiple AWS regions. Two strategies are used: **Thompson Sampling** (TS) and **Random Selection** to decide which API endpoint to use based on past latency observations.\n",
    "\n"
   ]
  },
  {
   "cell_type": "markdown",
   "id": "9154fb75-a82a-4cb5-acfb-cc97f00a5565",
   "metadata": {},
   "source": [
    "### Set retries to 1\n",
    "- this is so we can implement a custom retry mechanism (TODO)\n",
    "- Also, this is easier to test and report benefits"
   ]
  },
  {
   "cell_type": "code",
   "execution_count": 1,
   "id": "c7702d16-59d0-41ff-8fc6-bae6c20e7a08",
   "metadata": {},
   "outputs": [],
   "source": [
    "import boto3\n",
    "from botocore.config import Config\n",
    "\n",
    "config = Config(\n",
    "   retries = {\n",
    "      'max_attempts': 1,\n",
    "      'mode': 'standard'\n",
    "   }\n",
    ")"
   ]
  },
  {
   "cell_type": "markdown",
   "id": "39b12bbc-ba68-4e4e-9226-cd1cd8e23d3d",
   "metadata": {},
   "source": [
    "Use a large article to summarize as a test case..."
   ]
  },
  {
   "cell_type": "code",
   "execution_count": 3,
   "id": "3a05e964-6dfb-44b8-874e-c58aedeac9a0",
   "metadata": {},
   "outputs": [],
   "source": [
    "with open('cross-region-test/article.txt','r') as f:\n",
    "    article = f.read()"
   ]
  },
  {
   "cell_type": "code",
   "execution_count": 7,
   "id": "33099174-be5b-43e6-9719-a4ca95d43587",
   "metadata": {},
   "outputs": [],
   "source": [
    "max_prompt = \"Write a 1000 word summary of the article below:\\n\\nArticle\\n\" + article + \"\\n\\n Note: remember to stick to a 1000 word summary of the above article. Not more or less.\""
   ]
  },
  {
   "cell_type": "markdown",
   "id": "763f716d-b088-47f8-866b-70ead0e2287c",
   "metadata": {},
   "source": [
    "### Common wrapper to call Haiku using converse API on Amazon Bedrock. This can be changed to a model of your choice"
   ]
  },
  {
   "cell_type": "code",
   "execution_count": 9,
   "id": "f8262655-d3aa-4d0c-af33-7dbe941fdc5c",
   "metadata": {},
   "outputs": [],
   "source": [
    "def call_api(prompt: str, region_name='us-east-1'):\n",
    "    bedrock_runtime = boto3.client('bedrock-runtime', config=config, region_name=region_name)\n",
    "    \n",
    "    modelId = 'anthropic.claude-3-haiku-20240307-v1:0'\n",
    "    try:\n",
    "        response = bedrock_runtime.converse(\n",
    "            modelId=modelId,\n",
    "            system=[{\n",
    "                \"text\": \"You are a helpful AI assistant with accurate answers to user questions. Pay attention to the word limit if provided.\"\n",
    "            }],\n",
    "            messages=[{\n",
    "                \"role\": \"user\",\n",
    "                \"content\": [{\"text\": max_prompt}]\n",
    "            }],\n",
    "            inferenceConfig={\"maxTokens\": 1000}\n",
    "        )\n",
    "        \n",
    "        lat = response['metrics']['latencyMs']\n",
    "        res = response['output']['message']['content'][0]\n",
    "        stat = response['ResponseMetadata']['HTTPStatusCode']\n",
    "        \n",
    "        # Return latency and response only if status code is 200\n",
    "        if stat == 200:\n",
    "            return res, lat, stat\n",
    "        else:\n",
    "            # Penalize with high latency for failed requests\n",
    "            return None, float('inf'), stat\n",
    "\n",
    "    except Exception as e:\n",
    "        print(e)\n",
    "        # Return a high latency on failure (e.g., API request exception)\n",
    "        return None, float('inf'), 500  # Simulate failure with status 500\n"
   ]
  },
  {
   "cell_type": "code",
   "execution_count": 11,
   "id": "16d60cd1-7c7e-49ff-943d-fff314a1fc69",
   "metadata": {},
   "outputs": [],
   "source": [
    "# call_api(prompt=max_prompt)"
   ]
  },
  {
   "cell_type": "markdown",
   "id": "da2fe562-34d2-4f83-8e89-88a9847c2727",
   "metadata": {},
   "source": [
    "# Main implementation\n",
    "\n",
    "## 1. Importing Required Libraries\n",
    "- `numpy` and `pandas` are used for numerical computations and data management.\n",
    "- `time` is used to track the execution time of API calls.\n",
    "\n",
    "## 2. Defining API Regions and Initializing Parameters\n",
    "- A list of AWS regions (`us-east-1`, `us-west-2`, etc.) serves as different API endpoints.\n",
    "- Each region is initialized with prior mean (`mu`) and variance (`sigma^2`) values for latency estimation.\n",
    "- Separate tracking is maintained for both **Thompson Sampling** and **Random Selection** strategies.\n",
    "\n",
    "## 3. Thompson Sampling for API Selection\n",
    "Thompson Sampling is used to dynamically select the API region with the lowest estimated latency.  \n",
    "- **Sampling**: A latency value is drawn from a normal distribution for each API.\n",
    "- **Selection**: The API with the lowest sampled latency (within a 20% tolerance) is chosen.\n",
    "- **Updating Statistics**: After each call, the estimated mean and variance are updated using a decaying average.\n",
    "\n",
    "## 4. Random API Selection Strategy\n",
    "- A region is randomly selected for API calls.\n",
    "- Statistics (mean and variance) are updated based on observed latencies.\n",
    "- This serves as a baseline comparison against Thompson Sampling.\n",
    "\n",
    "## 5. Handling API Failures\n",
    "- If an API call fails, the system penalizes the region by assigning a latency twice the last successful response time.\n",
    "- This prevents repeatedly choosing unreliable regions.\n",
    "\n",
    "## 6. Simulating API Calls and Performance Tracking\n",
    "- The `simulate_calls` function runs multiple API calls using either **Thompson Sampling** or **Random Selection**.\n",
    "- It tracks:\n",
    "  - **Observed latencies**\n",
    "  - **Failure counts**\n",
    "  - **Total execution time**\n",
    "\n",
    "By comparing the results, we can determine which strategy provides the best performance for API latency optimization.\n"
   ]
  },
  {
   "cell_type": "code",
   "execution_count": 12,
   "id": "932b52dd-815f-465e-ab4c-a2914fa95b89",
   "metadata": {},
   "outputs": [],
   "source": [
    "from tqdm import tqdm"
   ]
  },
  {
   "cell_type": "markdown",
   "id": "29061c3d-032d-41e4-bb3d-121a37460a2d",
   "metadata": {},
   "source": [
    "Note below that the calls are not restricted to a common region like CRIS, and any number of regions may be included in the `regions` list"
   ]
  },
  {
   "cell_type": "code",
   "execution_count": 13,
   "id": "45ab42f0-f609-40cb-ae22-2d846962b2f9",
   "metadata": {},
   "outputs": [],
   "source": [
    "import numpy as np\n",
    "import pandas as pd\n",
    "import time  # For tracking wall time\n",
    "\n",
    "# Define the region options as different API endpoints\n",
    "regions = ['us-east-1', 'us-west-2', 'ap-south-1', 'ap-southeast-2', \n",
    "           'ap-northeast-1', 'ca-central-1', 'eu-central-1', 'eu-west-2']\n",
    "\n",
    "num_apis = len(regions)\n",
    "\n",
    "# Initialize priors for each API (mean and variance)\n",
    "api_mu_ts = [1.0] * num_apis  # Start with a prior mean latency of 1 second for TS\n",
    "api_var_ts = [1.0] * num_apis  # Start with a prior variance of 1 second for TS\n",
    "\n",
    "api_mu_random = [1.0] * num_apis  # Start with a prior mean latency of 1 second for Random\n",
    "api_var_random = [1.0] * num_apis  # Start with a prior variance of 1 second for Random\n",
    "\n",
    "# Track the number of observations for each API\n",
    "api_count_ts = [0] * num_apis\n",
    "api_count_random = [0] * num_apis\n",
    "\n",
    "total_latency_ts = [0.0] * num_apis\n",
    "total_latency_random = [0.0] * num_apis\n",
    "\n",
    "# Track the last successful latency for failure handling (for TS)\n",
    "last_successful_latency = [3.0] * num_apis  # Assume a reasonable initial latency in seconds\n",
    "\n",
    "# Tolerance for latency differences (e.g., 20%)\n",
    "latency_tolerance = 0.20\n",
    "\n",
    "# Thompson Sampling to pick the API based on its latency distribution\n",
    "def thompson_sampling():\n",
    "    sampled_latencies = [\n",
    "        np.random.normal(api_mu_ts[i], np.sqrt(api_var_ts[i])) for i in range(num_apis)\n",
    "    ]\n",
    "    \n",
    "    # Find the minimum sampled latency\n",
    "    min_latency = min(sampled_latencies)\n",
    "    \n",
    "    # Select an API within the tolerance range (e.g., 20% higher latency still acceptable)\n",
    "    candidates = [\n",
    "        i for i in range(num_apis) if sampled_latencies[i] <= min_latency * (1 + latency_tolerance)\n",
    "    ]\n",
    "    \n",
    "    # If no candidates within the tolerance, fall back to the API with the minimum sampled latency\n",
    "    if not candidates:\n",
    "        selected_api = np.argmin(sampled_latencies)  # Index of the API with the minimum latency\n",
    "    else:\n",
    "        selected_api = np.random.choice(candidates)\n",
    "    \n",
    "    return selected_api\n",
    "\n",
    "\n",
    "# Update the statistics of each API based on observed latency (for TS)\n",
    "def update_api_stats_ts(selected_api, observed_latency):\n",
    "    api_count_ts[selected_api] += 1\n",
    "    total_latency_ts[selected_api] += observed_latency\n",
    "    \n",
    "    # Update the mean (mu) and variance (sigma^2) using decaying average\n",
    "    n = api_count_ts[selected_api]\n",
    "    mu_prev = api_mu_ts[selected_api]\n",
    "    alpha = 0.3  # Weight for the decay\n",
    "    api_mu_ts[selected_api] = alpha * observed_latency + (1 - alpha) * mu_prev\n",
    "    \n",
    "    if n > 1:\n",
    "        sigma_prev = api_var_ts[selected_api]\n",
    "        api_var_ts[selected_api] = ((n - 1) * sigma_prev + (observed_latency - api_mu_ts[selected_api])**2) / n\n",
    "\n",
    "# Update stats for Random case\n",
    "def update_api_stats_random(selected_api, observed_latency):\n",
    "    api_count_random[selected_api] += 1\n",
    "    total_latency_random[selected_api] += observed_latency\n",
    "    \n",
    "    # Update the mean (mu) and variance (sigma^2) using decaying average\n",
    "    n = api_count_random[selected_api]\n",
    "    mu_prev = api_mu_random[selected_api]\n",
    "    alpha = 0.3  # Weight for the decay\n",
    "    api_mu_random[selected_api] = alpha * observed_latency + (1 - alpha) * mu_prev\n",
    "    \n",
    "    if n > 1:\n",
    "        sigma_prev = api_var_random[selected_api]\n",
    "        api_var_random[selected_api] = ((n - 1) * sigma_prev + (observed_latency - api_mu_random[selected_api])**2) / n\n",
    "\n",
    "# API call simulation with the different regions\n",
    "def call_api_with_thompson_sampling(prompt: str):\n",
    "    selected_api = thompson_sampling()\n",
    "    region = regions[selected_api]\n",
    "    \n",
    "    try:\n",
    "        # Call the actual API with the selected region\n",
    "        res, observed_latency, status_code = call_api(prompt, region_name=region)\n",
    "        observed_latency /= 1000.0  # Convert latency to seconds\n",
    "        \n",
    "        # If the status is successful, update the stats\n",
    "        if status_code == 200:\n",
    "            last_successful_latency[selected_api] = observed_latency  # Update last successful latency\n",
    "            update_api_stats_ts(selected_api, observed_latency)\n",
    "        else:\n",
    "            raise Exception(\"API failed\")\n",
    "    \n",
    "    except Exception:\n",
    "        # Handle failed requests by penalizing the latency (double the last successful latency)\n",
    "        observed_latency = last_successful_latency[selected_api] * 2\n",
    "        update_api_stats_ts(selected_api, observed_latency)\n",
    "    \n",
    "    return observed_latency, status_code\n",
    "\n",
    "# API call simulation for Random strategy\n",
    "def call_api_with_random(prompt: str):\n",
    "    selected_api = np.random.choice(num_apis)\n",
    "    region = regions[selected_api]\n",
    "    \n",
    "    try:\n",
    "        # Call the actual API with the selected region\n",
    "        res, observed_latency, status_code = call_api(prompt, region_name=region)\n",
    "        observed_latency /= 1000.0  # Convert latency to seconds\n",
    "        \n",
    "        if status_code == 200:\n",
    "            update_api_stats_random(selected_api, observed_latency)\n",
    "        else:\n",
    "            raise Exception(\"API failed\")\n",
    "    \n",
    "    except Exception:\n",
    "        # Handle failed requests by penalizing the latency (double last successful latency)\n",
    "        observed_latency = 6.0  # Set a default high penalty (6 seconds)\n",
    "        update_api_stats_random(selected_api, observed_latency)\n",
    "    \n",
    "    return observed_latency, status_code\n",
    "\n",
    "# Simulate API calls for comparison and track wall time\n",
    "def simulate_calls(strategy, num_calls=100):\n",
    "    latencies = []\n",
    "    failures = 0\n",
    "    \n",
    "    start_time = time.time()\n",
    "    \n",
    "    for _ in tqdm(range(num_calls)):\n",
    "        if strategy == \"thompson_sampling\":\n",
    "            observed_latency, status_code = call_api_with_thompson_sampling(max_prompt)\n",
    "        else:\n",
    "            observed_latency, status_code = call_api_with_random(max_prompt)\n",
    "        \n",
    "        # Track failures and latencies\n",
    "        if status_code != 200:\n",
    "            failures += 1\n",
    "        latencies.append(observed_latency)\n",
    "    \n",
    "    total_time = time.time() - start_time  # Calculate the total wall time in seconds\n",
    "    avg_latency = np.mean(latencies)\n",
    "    \n",
    "    return avg_latency, failures, total_time\n",
    "\n"
   ]
  },
  {
   "cell_type": "code",
   "execution_count": 14,
   "id": "0a526a07-10c1-4153-bb53-cba621f382b0",
   "metadata": {},
   "outputs": [
    {
     "name": "stderr",
     "output_type": "stream",
     "text": [
      "100%|██████████| 10/10 [02:20<00:00, 14.10s/it]\n",
      " 50%|█████     | 5/10 [01:05<00:50, 10.14s/it]"
     ]
    },
    {
     "name": "stdout",
     "output_type": "stream",
     "text": [
      "An error occurred (ServiceUnavailableException) when calling the Converse operation (reached max retries: 1): Bedrock is unable to process your request.\n"
     ]
    },
    {
     "name": "stderr",
     "output_type": "stream",
     "text": [
      "100%|██████████| 10/10 [02:15<00:00, 13.55s/it]"
     ]
    },
    {
     "name": "stdout",
     "output_type": "stream",
     "text": [
      "CPU times: user 403 ms, sys: 39.6 ms, total: 443 ms\n",
      "Wall time: 4min 36s\n"
     ]
    },
    {
     "name": "stderr",
     "output_type": "stream",
     "text": [
      "\n"
     ]
    }
   ],
   "source": [
    "%%time\n",
    "# Run simulations for Thompson Sampling and Random strategies\n",
    "\n",
    "# Increase number of calls for an actual test\n",
    "\n",
    "num_calls = 10\n",
    "avg_latency_ts, failures_ts, time_ts = simulate_calls(strategy=\"thompson_sampling\", num_calls=num_calls)\n",
    "avg_latency_random, failures_random, time_random = simulate_calls(strategy=\"random\", num_calls=num_calls)\n",
    "\n"
   ]
  },
  {
   "cell_type": "code",
   "execution_count": 15,
   "id": "9a25aac7-d75e-43c3-a415-b3d34409745a",
   "metadata": {},
   "outputs": [
    {
     "name": "stdout",
     "output_type": "stream",
     "text": [
      "Thompson Sampling: Avg Latency = 13.6123, Failures = 0, Throughput = 4.26 requests/min\n",
      "Random Strategy: Avg Latency = 13.4462, Failures = 1, Throughput = 4.43 requests/min\n"
     ]
    }
   ],
   "source": [
    "# Calculate throughput (requests per minute)\n",
    "throughput_ts = num_calls / (time_ts / 60)\n",
    "throughput_random = num_calls / (time_random / 60)\n",
    "\n",
    "# Report results\n",
    "print(f\"Thompson Sampling: Avg Latency = {avg_latency_ts}, Failures = {failures_ts}, Throughput = {throughput_ts:.2f} requests/min\")\n",
    "print(f\"Random Strategy: Avg Latency = {avg_latency_random}, Failures = {failures_random}, Throughput = {throughput_random:.2f} requests/min\")\n",
    "\n",
    "# Create separate DataFrames for Thompson Sampling and Random strategies\n",
    "def display_api_statistics(api_mu, api_var, api_count):\n",
    "    probabilities = [count / sum(api_count) if sum(api_count) > 0 else 0 for count in api_count]\n",
    "    \n",
    "    data = {\n",
    "        'Region': regions,\n",
    "        'Mean Latency (seconds)': api_mu,\n",
    "        'Latency Variance (seconds^2)': api_var,\n",
    "        'Hit Count': api_count,\n",
    "        'Probability': probabilities\n",
    "    }\n",
    "    \n",
    "    df = pd.DataFrame(data)\n",
    "    return df\n",
    "\n",
    "# Display final statistics for both strategies\n",
    "statistics_df_ts = display_api_statistics(api_mu_ts, api_var_ts, api_count_ts)\n",
    "statistics_df_random = display_api_statistics(api_mu_random, api_var_random, api_count_random)\n",
    "\n",
    "# print(\"\\nThompson Sampling Strategy Statistics:\")\n",
    "# print(statistics_df_ts)\n",
    "\n",
    "# print(\"\\nRandom Strategy Statistics:\")\n",
    "# print(statistics_df_random)\n"
   ]
  },
  {
   "cell_type": "code",
   "execution_count": 16,
   "id": "f012586f-c2df-40a1-9de2-c6af6e8dc326",
   "metadata": {},
   "outputs": [
    {
     "data": {
      "text/html": [
       "<div>\n",
       "<style scoped>\n",
       "    .dataframe tbody tr th:only-of-type {\n",
       "        vertical-align: middle;\n",
       "    }\n",
       "\n",
       "    .dataframe tbody tr th {\n",
       "        vertical-align: top;\n",
       "    }\n",
       "\n",
       "    .dataframe thead th {\n",
       "        text-align: right;\n",
       "    }\n",
       "</style>\n",
       "<table border=\"1\" class=\"dataframe\">\n",
       "  <thead>\n",
       "    <tr style=\"text-align: right;\">\n",
       "      <th></th>\n",
       "      <th>Region</th>\n",
       "      <th>Mean Latency (seconds)</th>\n",
       "      <th>Latency Variance (seconds^2)</th>\n",
       "      <th>Hit Count</th>\n",
       "      <th>Probability</th>\n",
       "    </tr>\n",
       "  </thead>\n",
       "  <tbody>\n",
       "    <tr>\n",
       "      <th>0</th>\n",
       "      <td>us-east-1</td>\n",
       "      <td>5.15650</td>\n",
       "      <td>1.000000</td>\n",
       "      <td>1</td>\n",
       "      <td>0.1</td>\n",
       "    </tr>\n",
       "    <tr>\n",
       "      <th>1</th>\n",
       "      <td>us-west-2</td>\n",
       "      <td>4.95670</td>\n",
       "      <td>1.000000</td>\n",
       "      <td>1</td>\n",
       "      <td>0.1</td>\n",
       "    </tr>\n",
       "    <tr>\n",
       "      <th>2</th>\n",
       "      <td>ap-south-1</td>\n",
       "      <td>5.34352</td>\n",
       "      <td>9.134007</td>\n",
       "      <td>2</td>\n",
       "      <td>0.2</td>\n",
       "    </tr>\n",
       "    <tr>\n",
       "      <th>3</th>\n",
       "      <td>ap-southeast-2</td>\n",
       "      <td>4.21840</td>\n",
       "      <td>1.000000</td>\n",
       "      <td>1</td>\n",
       "      <td>0.1</td>\n",
       "    </tr>\n",
       "    <tr>\n",
       "      <th>4</th>\n",
       "      <td>ap-northeast-1</td>\n",
       "      <td>6.50662</td>\n",
       "      <td>11.150866</td>\n",
       "      <td>2</td>\n",
       "      <td>0.2</td>\n",
       "    </tr>\n",
       "    <tr>\n",
       "      <th>5</th>\n",
       "      <td>ca-central-1</td>\n",
       "      <td>4.48870</td>\n",
       "      <td>1.000000</td>\n",
       "      <td>1</td>\n",
       "      <td>0.1</td>\n",
       "    </tr>\n",
       "    <tr>\n",
       "      <th>6</th>\n",
       "      <td>eu-central-1</td>\n",
       "      <td>8.29750</td>\n",
       "      <td>1.000000</td>\n",
       "      <td>1</td>\n",
       "      <td>0.1</td>\n",
       "    </tr>\n",
       "    <tr>\n",
       "      <th>7</th>\n",
       "      <td>eu-west-2</td>\n",
       "      <td>5.04160</td>\n",
       "      <td>1.000000</td>\n",
       "      <td>1</td>\n",
       "      <td>0.1</td>\n",
       "    </tr>\n",
       "  </tbody>\n",
       "</table>\n",
       "</div>"
      ],
      "text/plain": [
       "           Region  Mean Latency (seconds)  Latency Variance (seconds^2)  \\\n",
       "0       us-east-1                 5.15650                      1.000000   \n",
       "1       us-west-2                 4.95670                      1.000000   \n",
       "2      ap-south-1                 5.34352                      9.134007   \n",
       "3  ap-southeast-2                 4.21840                      1.000000   \n",
       "4  ap-northeast-1                 6.50662                     11.150866   \n",
       "5    ca-central-1                 4.48870                      1.000000   \n",
       "6    eu-central-1                 8.29750                      1.000000   \n",
       "7       eu-west-2                 5.04160                      1.000000   \n",
       "\n",
       "   Hit Count  Probability  \n",
       "0          1          0.1  \n",
       "1          1          0.1  \n",
       "2          2          0.2  \n",
       "3          1          0.1  \n",
       "4          2          0.2  \n",
       "5          1          0.1  \n",
       "6          1          0.1  \n",
       "7          1          0.1  "
      ]
     },
     "execution_count": 16,
     "metadata": {},
     "output_type": "execute_result"
    }
   ],
   "source": [
    "statistics_df_ts"
   ]
  },
  {
   "cell_type": "code",
   "execution_count": 17,
   "id": "b0cbe060-b293-4e47-9689-e037afc2bd75",
   "metadata": {},
   "outputs": [
    {
     "data": {
      "text/html": [
       "<div>\n",
       "<style scoped>\n",
       "    .dataframe tbody tr th:only-of-type {\n",
       "        vertical-align: middle;\n",
       "    }\n",
       "\n",
       "    .dataframe tbody tr th {\n",
       "        vertical-align: top;\n",
       "    }\n",
       "\n",
       "    .dataframe thead th {\n",
       "        text-align: right;\n",
       "    }\n",
       "</style>\n",
       "<table border=\"1\" class=\"dataframe\">\n",
       "  <thead>\n",
       "    <tr style=\"text-align: right;\">\n",
       "      <th></th>\n",
       "      <th>Region</th>\n",
       "      <th>Mean Latency (seconds)</th>\n",
       "      <th>Latency Variance (seconds^2)</th>\n",
       "      <th>Hit Count</th>\n",
       "      <th>Probability</th>\n",
       "    </tr>\n",
       "  </thead>\n",
       "  <tbody>\n",
       "    <tr>\n",
       "      <th>0</th>\n",
       "      <td>us-east-1</td>\n",
       "      <td>8.99275</td>\n",
       "      <td>52.064551</td>\n",
       "      <td>2</td>\n",
       "      <td>0.2</td>\n",
       "    </tr>\n",
       "    <tr>\n",
       "      <th>1</th>\n",
       "      <td>us-west-2</td>\n",
       "      <td>1.00000</td>\n",
       "      <td>1.000000</td>\n",
       "      <td>0</td>\n",
       "      <td>0.0</td>\n",
       "    </tr>\n",
       "    <tr>\n",
       "      <th>2</th>\n",
       "      <td>ap-south-1</td>\n",
       "      <td>5.69974</td>\n",
       "      <td>13.277827</td>\n",
       "      <td>2</td>\n",
       "      <td>0.2</td>\n",
       "    </tr>\n",
       "    <tr>\n",
       "      <th>3</th>\n",
       "      <td>ap-southeast-2</td>\n",
       "      <td>6.79738</td>\n",
       "      <td>16.839872</td>\n",
       "      <td>2</td>\n",
       "      <td>0.2</td>\n",
       "    </tr>\n",
       "    <tr>\n",
       "      <th>4</th>\n",
       "      <td>ap-northeast-1</td>\n",
       "      <td>5.25580</td>\n",
       "      <td>21.173736</td>\n",
       "      <td>2</td>\n",
       "      <td>0.2</td>\n",
       "    </tr>\n",
       "    <tr>\n",
       "      <th>5</th>\n",
       "      <td>ca-central-1</td>\n",
       "      <td>1.00000</td>\n",
       "      <td>1.000000</td>\n",
       "      <td>0</td>\n",
       "      <td>0.0</td>\n",
       "    </tr>\n",
       "    <tr>\n",
       "      <th>6</th>\n",
       "      <td>eu-central-1</td>\n",
       "      <td>8.64040</td>\n",
       "      <td>1.000000</td>\n",
       "      <td>1</td>\n",
       "      <td>0.1</td>\n",
       "    </tr>\n",
       "    <tr>\n",
       "      <th>7</th>\n",
       "      <td>eu-west-2</td>\n",
       "      <td>4.64620</td>\n",
       "      <td>1.000000</td>\n",
       "      <td>1</td>\n",
       "      <td>0.1</td>\n",
       "    </tr>\n",
       "  </tbody>\n",
       "</table>\n",
       "</div>"
      ],
      "text/plain": [
       "           Region  Mean Latency (seconds)  Latency Variance (seconds^2)  \\\n",
       "0       us-east-1                 8.99275                     52.064551   \n",
       "1       us-west-2                 1.00000                      1.000000   \n",
       "2      ap-south-1                 5.69974                     13.277827   \n",
       "3  ap-southeast-2                 6.79738                     16.839872   \n",
       "4  ap-northeast-1                 5.25580                     21.173736   \n",
       "5    ca-central-1                 1.00000                      1.000000   \n",
       "6    eu-central-1                 8.64040                      1.000000   \n",
       "7       eu-west-2                 4.64620                      1.000000   \n",
       "\n",
       "   Hit Count  Probability  \n",
       "0          2          0.2  \n",
       "1          0          0.0  \n",
       "2          2          0.2  \n",
       "3          2          0.2  \n",
       "4          2          0.2  \n",
       "5          0          0.0  \n",
       "6          1          0.1  \n",
       "7          1          0.1  "
      ]
     },
     "execution_count": 17,
     "metadata": {},
     "output_type": "execute_result"
    }
   ],
   "source": [
    "statistics_df_random"
   ]
  },
  {
   "cell_type": "code",
   "execution_count": 18,
   "id": "4a8964ca-0eba-48df-bddc-8e5b7016610e",
   "metadata": {},
   "outputs": [
    {
     "data": {
      "text/plain": [
       "<Axes: xlabel='Region'>"
      ]
     },
     "execution_count": 18,
     "metadata": {},
     "output_type": "execute_result"
    },
    {
     "data": {
      "image/png": "[encoded data removed]",
      "text/plain": [
       "<Figure size 640x480 with 1 Axes>"
      ]
     },
     "metadata": {},
     "output_type": "display_data"
    }
   ],
   "source": [
    "statistics_df_random.plot.bar(x='Region', y='Probability')"
   ]
  },
  {
   "cell_type": "code",
   "execution_count": 19,
   "id": "ad4a0ed5-20fd-45cd-9551-61a13c19b315",
   "metadata": {},
   "outputs": [
    {
     "data": {
      "text/plain": [
       "<Axes: xlabel='Region'>"
      ]
     },
     "execution_count": 19,
     "metadata": {},
     "output_type": "execute_result"
    },
    {
     "data": {
      "image/png": "[encoded data removed]",
      "text/plain": [
       "<Figure size 640x480 with 1 Axes>"
      ]
     },
     "metadata": {},
     "output_type": "display_data"
    }
   ],
   "source": [
    "statistics_df_ts.plot.bar(x='Region', y='Probability')"
   ]
  },
  {
   "cell_type": "markdown",
   "id": "79024247-5905-47b8-b3c3-ac40ce47d077",
   "metadata": {},
   "source": [
    "# Compare to Amazon Bedrock Cross Region Inference\n",
    "\n",
    "In the previous sections, we implemented custom strategies—**Thompson Sampling** and **Random Selection**—to optimize API call latency across multiple AWS regions. These methods involve manually selecting regions based on observed latencies and dynamically adjusting strategies to improve performance.\n",
    "\n",
    "**Amazon Bedrock's Cross-Region Inference** offers a managed alternative to handle cross-region traffic distribution:\n",
    "\n",
    "- **Inference Profiles**: Bedrock introduces system-defined inference profiles that abstract multiple AWS regions behind a unified model identifier. By specifying an inference profile in your API requests, Bedrock automatically routes traffic across the defined regions, managing unplanned traffic bursts and increasing throughput without manual intervention. :contentReference[oaicite:0]{index=0}\n",
    "\n",
    "- **Throughput and Resilience**: Utilizing cross-region inference can provide up to double the default in-region quotas, enhancing resilience during peak demand periods. :contentReference[oaicite:1]{index=1}\n",
    "\n",
    "**Key Differences**:\n",
    "\n",
    "- **Manual vs. Automated Management**: Custom strategies require manual implementation and maintenance of region selection logic, whereas Bedrock's cross-region inference automates traffic distribution.\n",
    "\n",
    "- **Scalability**: Bedrock's solution scales seamlessly with demand, leveraging AWS infrastructure to handle traffic bursts, while custom implementations may require additional resources to achieve similar scalability.\n",
    "\n",
    "- **Complexity**: Implementing custom strategies adds complexity to your application code. In contrast, Bedrock's inference profiles simplify cross-region management by handling routing internally.\n",
    "\n",
    "In summary, while custom cross-region strategies offer control over region selection and traffic management, Amazon Bedrock's cross-region inference provides a streamlined, automated approach to distribute inference requests across regions, enhancing throughput and resilience with minimal operational overhead.\n",
    "\n"
   ]
  },
  {
   "cell_type": "code",
   "execution_count": 20,
   "id": "59d30468-3b22-4269-803e-9995dc6284b5",
   "metadata": {},
   "outputs": [],
   "source": [
    "\n",
    "import boto3\n",
    "from botocore.config import Config\n",
    "\n",
    "config = Config(\n",
    "   retries = {\n",
    "      'max_attempts': 1,\n",
    "      'mode': 'standard'\n",
    "   }\n",
    ")\n",
    "\n",
    "def call_api_cris(prompt: str, region_name='us-east-1'):\n",
    "    bedrock_runtime = boto3.client('bedrock-runtime', config=config, region_name=region_name)\n",
    "    \n",
    "    modelId = 'us.anthropic.claude-3-haiku-20240307-v1:0'\n",
    "    try:\n",
    "        response = bedrock_runtime.converse(\n",
    "            modelId=modelId,\n",
    "            system=[{\n",
    "                \"text\": \"You are a helpful AI assistant with accurate answers to user questions. Pay attention to the word limit if provided.\"\n",
    "            }],\n",
    "            messages=[{\n",
    "                \"role\": \"user\",\n",
    "                \"content\": [{\"text\": max_prompt}]\n",
    "            }],\n",
    "            inferenceConfig={\"maxTokens\": 1000}\n",
    "        )\n",
    "        \n",
    "        lat = response['metrics']['latencyMs']\n",
    "        res = response['output']['message']['content'][0]\n",
    "        stat = response['ResponseMetadata']['HTTPStatusCode']\n",
    "        \n",
    "        # Return latency and response only if status code is 200\n",
    "        if stat == 200:\n",
    "            return res, lat, stat\n",
    "        else:\n",
    "            # Penalize with high latency for failed requests\n",
    "            return None, float('inf'), stat\n",
    "\n",
    "    except Exception as e:\n",
    "        # Return a high latency on failure (e.g., API request exception)\n",
    "        return None, float('inf'), 500  # Simulate failure with status 500\n"
   ]
  },
  {
   "cell_type": "code",
   "execution_count": 21,
   "id": "e26a92f1-b8ef-41e5-982d-7b73f25b603b",
   "metadata": {},
   "outputs": [],
   "source": [
    "def call_api_with_random_cris(prompt: str):\n",
    "    selected_api = np.random.choice(num_apis)\n",
    "    region = regions[selected_api]\n",
    "    \n",
    "    try:\n",
    "        # Call the actual API with the selected region\n",
    "        res, observed_latency, status_code = call_api_cris(prompt)\n",
    "        observed_latency /= 1000.0  # Convert latency to seconds\n",
    "        \n",
    "        if status_code == 200:\n",
    "            update_api_stats_random(selected_api, observed_latency)\n",
    "        else:\n",
    "            raise Exception(\"API failed\")\n",
    "    \n",
    "    except Exception:\n",
    "        # Handle failed requests by penalizing the latency (double last successful latency)\n",
    "        observed_latency = 6.0  # Set a default high penalty (6 seconds)\n",
    "        update_api_stats_random(selected_api, observed_latency)\n",
    "    \n",
    "    return observed_latency, status_code\n",
    "\n",
    "# Simulate API calls for comparison and track wall time\n",
    "def simulate_calls_cris(num_calls=100):\n",
    "    latencies = []\n",
    "    status_codes = []\n",
    "    failures = 0\n",
    "    \n",
    "    start_time = time.time()\n",
    "    \n",
    "    for _ in tqdm(range(num_calls)):\n",
    "        observed_latency, status_code = call_api_with_random_cris(max_prompt)\n",
    "        \n",
    "        # Track failures and latencies\n",
    "        if status_code != 200:\n",
    "            failures += 1\n",
    "        latencies.append(observed_latency)\n",
    "        status_codes.append(status_code)\n",
    "        \n",
    "    total_time = time.time() - start_time  # Calculate the total wall time in seconds\n",
    "    avg_latency = np.mean(latencies)\n",
    "    \n",
    "    return avg_latency, failures, total_time, latencies, status_codes\n",
    "\n"
   ]
  },
  {
   "cell_type": "code",
   "execution_count": 22,
   "id": "c39cead8-a4e2-40aa-88d6-7de01d0cfe82",
   "metadata": {},
   "outputs": [
    {
     "name": "stderr",
     "output_type": "stream",
     "text": [
      "100%|██████████| 10/10 [02:36<00:00, 15.66s/it]"
     ]
    },
    {
     "name": "stdout",
     "output_type": "stream",
     "text": [
      "CPU times: user 184 ms, sys: 5.15 ms, total: 189 ms\n",
      "Wall time: 2min 36s\n"
     ]
    },
    {
     "name": "stderr",
     "output_type": "stream",
     "text": [
      "\n"
     ]
    }
   ],
   "source": [
    "%%time\n",
    "# Run simulations for Thompson Sampling and Random strategies\n",
    "num_calls = 10\n",
    "avg_latency_cris, failures_cris, time_cris, latencies, status_codes = simulate_calls_cris(num_calls=num_calls)"
   ]
  },
  {
   "cell_type": "code",
   "execution_count": 23,
   "id": "71bdced1-278c-4595-986b-345ab0f7bb65",
   "metadata": {},
   "outputs": [
    {
     "name": "stdout",
     "output_type": "stream",
     "text": [
      "US CRIS: Avg Latency = 15.6326, Failures = 0, Throughput = 3.83 requests/min\n"
     ]
    }
   ],
   "source": [
    "throughput_cris = num_calls / (time_cris / 60)\n",
    "\n",
    "\n",
    "print(f\"US CRIS: Avg Latency = {avg_latency_cris}, Failures = {failures_cris}, Throughput = {throughput_cris:.2f} requests/min\")\n"
   ]
  },
  {
   "cell_type": "code",
   "execution_count": 24,
   "id": "4e79d2e8-a67a-4b96-bdeb-dbe7b7c9a496",
   "metadata": {},
   "outputs": [
    {
     "data": {
      "text/plain": [
       "1.904591640000001"
      ]
     },
     "execution_count": 24,
     "metadata": {},
     "output_type": "execute_result"
    }
   ],
   "source": [
    "np.var(latencies)"
   ]
  },
  {
   "cell_type": "code",
   "execution_count": 28,
   "id": "651373ff-fa80-44ff-a9ad-0f76db72dc08",
   "metadata": {},
   "outputs": [
    {
     "data": {
      "text/plain": [
       "0"
      ]
     },
     "execution_count": 28,
     "metadata": {},
     "output_type": "execute_result"
    }
   ],
   "source": [
    "failures_cris"
   ]
  },
  {
   "cell_type": "code",
   "execution_count": 29,
   "id": "025ebe8b-c760-40bc-b566-fbd9bfbc88d5",
   "metadata": {},
   "outputs": [
    {
     "data": {
      "text/html": [
       "<style type=\"text/css\">\n",
       "</style>\n",
       "<table id=\"T_a4111\">\n",
       "  <caption>Random routing vs. CRIS vs TS: 5000 in -1000 out tokens. For TS, regions considered are us-east-1, us-west-2, ap-south-1, ap-southeast-2, ap-northeast-1, ca-central-1, eu-central-1, eu-west-2</caption>\n",
       "  <thead>\n",
       "    <tr>\n",
       "      <th class=\"blank level0\" >&nbsp;</th>\n",
       "      <th id=\"T_a4111_level0_col0\" class=\"col_heading level0 col0\" >Region</th>\n",
       "      <th id=\"T_a4111_level0_col1\" class=\"col_heading level0 col1\" >Mean Latency (seconds)</th>\n",
       "      <th id=\"T_a4111_level0_col2\" class=\"col_heading level0 col2\" >Latency Variance (seconds^2)</th>\n",
       "      <th id=\"T_a4111_level0_col3\" class=\"col_heading level0 col3\" >Throughput (RPM)</th>\n",
       "    </tr>\n",
       "  </thead>\n",
       "  <tbody>\n",
       "    <tr>\n",
       "      <th id=\"T_a4111_level0_row0\" class=\"row_heading level0 row0\" >0</th>\n",
       "      <td id=\"T_a4111_row0_col0\" class=\"data row0 col0\" >Random</td>\n",
       "      <td id=\"T_a4111_row0_col1\" class=\"data row0 col1\" >13.446200</td>\n",
       "      <td id=\"T_a4111_row0_col2\" class=\"data row0 col2\" >13.419498</td>\n",
       "      <td id=\"T_a4111_row0_col3\" class=\"data row0 col3\" >4.427516</td>\n",
       "    </tr>\n",
       "    <tr>\n",
       "      <th id=\"T_a4111_level0_row1\" class=\"row_heading level0 row1\" >1</th>\n",
       "      <td id=\"T_a4111_row1_col0\" class=\"data row1 col0\" >US CRIS</td>\n",
       "      <td id=\"T_a4111_row1_col1\" class=\"data row1 col1\" >15.632600</td>\n",
       "      <td id=\"T_a4111_row1_col2\" class=\"data row1 col2\" >1.904592</td>\n",
       "      <td id=\"T_a4111_row1_col3\" class=\"data row1 col3\" >3.831459</td>\n",
       "    </tr>\n",
       "    <tr>\n",
       "      <th id=\"T_a4111_level0_row2\" class=\"row_heading level0 row2\" >2</th>\n",
       "      <td id=\"T_a4111_row2_col0\" class=\"data row2 col0\" >TS</td>\n",
       "      <td id=\"T_a4111_row2_col1\" class=\"data row2 col1\" >13.612300</td>\n",
       "      <td id=\"T_a4111_row2_col2\" class=\"data row2 col2\" >3.285609</td>\n",
       "      <td id=\"T_a4111_row2_col3\" class=\"data row2 col3\" >4.256542</td>\n",
       "    </tr>\n",
       "  </tbody>\n",
       "</table>\n"
      ],
      "text/plain": [
       "<pandas.io.formats.style.Styler at 0x7f942c30a550>"
      ]
     },
     "execution_count": 29,
     "metadata": {},
     "output_type": "execute_result"
    }
   ],
   "source": [
    "df = pd.DataFrame(data={\n",
    "        'Region': ['Random', 'US CRIS','TS'],\n",
    "        'Mean Latency (seconds)': [avg_latency_random, avg_latency_cris, avg_latency_ts],\n",
    "        'Latency Variance (seconds^2)': [statistics_df_random['Latency Variance (seconds^2)'].mean(),np.var(latencies),statistics_df_ts['Latency Variance (seconds^2)'].mean()],\n",
    "        'Throughput (RPM)': [throughput_random, throughput_cris, throughput_ts]\n",
    "    })\n",
    "\n",
    "df.style.set_caption(\"Random routing vs. CRIS vs TS: 5000 in -1000 out tokens. For TS, regions considered are \"+', '.join(regions))"
   ]
  },
  {
   "cell_type": "code",
   "execution_count": 30,
   "id": "95bc1d81-1c4a-467e-ac21-6484c3003049",
   "metadata": {
    "scrolled": true
   },
   "outputs": [
    {
     "data": {
      "text/plain": [
       "[200, 200, 200, 200, 200, 200, 200, 200, 200, 200]"
      ]
     },
     "execution_count": 30,
     "metadata": {},
     "output_type": "execute_result"
    }
   ],
   "source": [
    "status_codes"
   ]
  },
  {
   "cell_type": "markdown",
   "id": "ad1edd7e",
   "metadata": {},
   "source": [
    "## Conclusion\n",
    "\n",
    "This notebook explored different strategies for optimizing API call latency across multiple AWS regions. By implementing **Thompson Sampling** and **Random Selection**, we demonstrated how adaptive decision-making can improve response times while balancing failure handling.\n",
    "\n",
    "We also compared these methods to **Amazon Bedrock's Cross-Region Inference**, which provides an automated approach for distributing inference requests across regions. While custom strategies offer greater control and fine-tuning, Bedrock simplifies scalability and resilience with minimal operational overhead.\n",
    "\n",
    "For workloads requiring precise control over region selection, Thompson Sampling remains a strong choice. However, for applications prioritizing ease of use and built-in AWS optimizations, Bedrock's inference profiles provide a compelling alternative. Ultimately, the best approach depends on specific business needs, performance goals, and infrastructure constraints.\n"
   ]
  }
 ],
 "metadata": {
  "kernelspec": {
   "display_name": "Python 3 (ipykernel)",
   "language": "python",
   "name": "python3"
  },
  "language_info": {
   "codemirror_mode": {
    "name": "ipython",
    "version": 3
   },
   "file_extension": ".py",
   "mimetype": "text/x-python",
   "name": "python",
   "nbconvert_exporter": "python",
   "pygments_lexer": "ipython3",
   "version": "3.11.10"
  }
 },
 "nbformat": 4,
 "nbformat_minor": 5
}
